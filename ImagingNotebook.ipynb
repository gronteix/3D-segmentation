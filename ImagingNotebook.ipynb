{
 "cells": [
  {
   "cell_type": "code",
   "execution_count": null,
   "metadata": {},
   "outputs": [],
   "source": [
    "import os\n",
    "import numpy as np\n",
    "import pandas\n",
    "\n",
    "import matplotlib.pyplot as plt\n",
    "import glob\n",
    "import json\n",
    "\n",
    "import networkx as nx\n",
    "from community import community_louvain"
   ]
  },
  {
   "cell_type": "markdown",
   "metadata": {},
   "source": [
    "## Graph analysis\n",
    "\n",
    "We first download a specific json file corresponding to a given graph."
   ]
  },
  {
   "cell_type": "code",
   "execution_count": null,
   "metadata": {},
   "outputs": [],
   "source": [
    "def _makeG(dic):\n",
    "    \n",
    "    G=nx.Graph()\n",
    "    _Cells = _Sph['cells']\n",
    "    G.add_nodes_from(_Cells.keys())\n",
    "    \n",
    "    for key in _Cells.keys():\n",
    "    \n",
    "        neighbours = _Cells[key]['neighbours']\n",
    "    \n",
    "        for node in neighbours:\n",
    "    \n",
    "            G.add_edge(key, node)\n",
    "        \n",
    "    return G"
   ]
  },
  {
   "cell_type": "code",
   "execution_count": null,
   "metadata": {},
   "outputs": [],
   "source": [
    "n = 0\n",
    "path = r'PATH NAME'"
   ]
  },
  {
   "cell_type": "code",
   "execution_count": null,
   "metadata": {},
   "outputs": [],
   "source": [
    "dicName = glob.glob(path + r'\\**\\**\\\\' + '*.json')[n]"
   ]
  },
  {
   "cell_type": "code",
   "execution_count": null,
   "metadata": {},
   "outputs": [],
   "source": [
    "with open(dicName, \"r\") as read_file:\n",
    "    _Sph = json.load(read_file)"
   ]
  },
  {
   "cell_type": "code",
   "execution_count": null,
   "metadata": {},
   "outputs": [],
   "source": [
    "G = _makeG(_Sph)"
   ]
  },
  {
   "cell_type": "markdown",
   "metadata": {},
   "source": [
    "### Library of possible analysis functions\n",
    "\n",
    "In the following lines we give the main features we will be looking at among our spheroids."
   ]
  },
  {
   "cell_type": "code",
   "execution_count": null,
   "metadata": {},
   "outputs": [],
   "source": [
    "A = nx.betweenness_centrality(G)"
   ]
  },
  {
   "cell_type": "code",
   "execution_count": null,
   "metadata": {},
   "outputs": [],
   "source": [
    "B = networkx.clustering(G)"
   ]
  },
  {
   "cell_type": "code",
   "execution_count": null,
   "metadata": {},
   "outputs": [],
   "source": [
    "C = community_louvain.best_partition(G)"
   ]
  },
  {
   "cell_type": "markdown",
   "metadata": {},
   "source": [
    "### Spring Plot\n",
    "\n",
    "This enables us to clearly view the spheroid in 2D. There are issues with the colorbar,"
   ]
  },
  {
   "cell_type": "code",
   "execution_count": null,
   "metadata": {
    "scrolled": true
   },
   "outputs": [],
   "source": [
    "import re\n",
    "import sys\n",
    "\n",
    "import matplotlib.pyplot as plt\n",
    "import networkx as nx\n",
    "\n",
    "# draw with matplotlib/pylab\n",
    "plt.figure(figsize=(10,10))\n",
    "\n",
    "# with nodes colored by degree sized by population\n",
    "node_color = [float(B[v]) for v in G]\n",
    "\n",
    "nx.draw_spring(G, node_color=node_color,\n",
    "        with_labels=False)\n",
    "\n",
    "plt.show()"
   ]
  },
  {
   "cell_type": "markdown",
   "metadata": {},
   "source": [
    "### Modular plot\n",
    "\n",
    "The following function enables us to plot any property in 2D with the spring layout. The colorbar issues has been solved here."
   ]
  },
  {
   "cell_type": "code",
   "execution_count": null,
   "metadata": {},
   "outputs": [],
   "source": [
    "G=nx.Graph()\n",
    "_Cells = _Sph['cells']\n",
    "G.add_nodes_from(_Cells.keys())\n",
    "\n",
    "# Creating the Graph\n",
    "\n",
    "for key in _Cells.keys():\n",
    "    \n",
    "    neighbours = _Cells[key]['neighbours']\n",
    "    \n",
    "    for node in neighbours:\n",
    "    \n",
    "        G.add_edge(key, node)\n",
    "\n",
    "centrality = []\n",
    "eV = nx.degree_centrality(G)\n",
    "\n",
    "# Measuring the feature\n",
    "\n",
    "for key in _Cells.keys():\n",
    "        \n",
    "    centrality.append(eV[key])\n",
    "    \n",
    "# Proper plot\n",
    "\n",
    "plt.figure(figsize=(8, 8))\n",
    "\n",
    "pos = nx.spring_layout(G)\n",
    "im = nx.draw_networkx_nodes(G, pos, node_size=20, node_color = centrality, cmap=plt.cm.viridis)\n",
    "nx.draw_networkx_edges(G, pos, alpha=0.4)\n",
    "\n",
    "#legend\n",
    "cbar = plt.colorbar(im)\n",
    "cbar.set_label('Eigenvector centrality', rotation=270)\n",
    "cbar.ax.get_yaxis().labelpad = 15\n",
    "\n",
    "plt.axis('off')\n",
    "#plt.savefig(path + '\\\\fig_58_5.png')\n",
    "plt.show()\n"
   ]
  },
  {
   "cell_type": "markdown",
   "metadata": {},
   "source": [
    "### 3D plot\n",
    "\n",
    "The advantage of the 3D plot is that it enables us to precisely measure the different spheroid characteristics without modifying the cell layout."
   ]
  },
  {
   "cell_type": "code",
   "execution_count": null,
   "metadata": {},
   "outputs": [],
   "source": [
    "import networkx as nx\n",
    "import random\n",
    "from mpl_toolkits.mplot3d import Axes3D\n",
    "import matplotlib.pyplot as plt\n",
    "import numpy as np\n",
    "from mpl_toolkits.axes_grid1.inset_locator import inset_axes\n",
    "\n",
    "def generate_random_3Dgraph(_Cells, zRatio, dCells, scale, seed=None):\n",
    "    \n",
    "    # Generate a dict of positions\n",
    "    pos = {int(i): (scale*_Cells[i]['x'], scale*_Cells[i]['y'], scale*_Cells[i]['z']/zRatio) for i in _Cells.keys()}\n",
    "    \n",
    "    # Create random 3D network\n",
    "    G = nx.random_geometric_graph(len(_Cells), dCells, pos=pos)\n",
    " \n",
    "    return G\n",
    "\n",
    "def network_plot_3D(G, angle, save=False):\n",
    " \n",
    "    # Get node positions\n",
    "    pos = nx.get_node_attributes(G, 'pos')\n",
    "    \n",
    "    # Get number of nodes\n",
    "    n = G.number_of_nodes()\n",
    " \n",
    "    # Get the maximum number of edges adjacent to a single node\n",
    "    edge_max = max([G.degree(i) for i in range(n)])\n",
    " \n",
    "    # Define color range proportional to number of edges adjacent to a single node\n",
    "    colors = [G.degree(i) for i in range(n)]\n",
    "    cm = plt.cm.plasma\n",
    " \n",
    "    # 3D network plot\n",
    "    with plt.style.context(('ggplot')):\n",
    "        \n",
    "        fig = plt.figure(figsize=(10,8))\n",
    "        ax = Axes3D(fig)\n",
    "        \n",
    "\n",
    "        \n",
    "        # Loop on the pos dictionary to extract the x,y,z coordinates of each node\n",
    "        \n",
    "        for i,j in enumerate(G.edges()):\n",
    " \n",
    "            x = np.array((pos[j[0]][0], pos[j[1]][0]))\n",
    "            y = np.array((pos[j[0]][1], pos[j[1]][1]))\n",
    "            z = np.array((pos[j[0]][2], pos[j[1]][2]))\n",
    "        \n",
    "        # Plot the connecting lines\n",
    "            ax.plot(x, y, z, c='black', alpha=0.2)\n",
    "            \n",
    "        x = []\n",
    "        y = []\n",
    "        z = []\n",
    "        nodeColor = []\n",
    "        s = []\n",
    "            \n",
    "        for key, value in pos.items():\n",
    "            x.append(value[0])\n",
    "            y.append(value[1])\n",
    "            z.append(value[2])\n",
    "            nodeColor.append(colors[key])\n",
    "            s.append(20+20*G.degree(key))\n",
    "            \n",
    "        # Scatter plot\n",
    "        sc = ax.scatter(x, y, z, c=nodeColor, cmap=cm, s=s, edgecolors='k', alpha=0.7)\n",
    "        \n",
    "        # Loop on the list of edges to get the x,y,z, coordinates of the connected nodes\n",
    "        # Those two points are the extrema of the line to be plotted\n",
    "\n",
    "    \n",
    "    # Set the initial view\n",
    "    ax.view_init(30, angle)\n",
    "    fig.patch.set_facecolor((1.0, 1, 1))\n",
    "    ax.set_facecolor((1.0, 1, 1))\n",
    "    ax.w_xaxis.set_pane_color((1.0, 1.0, 1.0, 1.0))\n",
    "    ax.w_yaxis.set_pane_color((1.0, 1.0, 1.0, 1.0))\n",
    "    ax.w_zaxis.set_pane_color((1.0, 1.0, 1.0, 1.0))\n",
    "    plt.rc('grid', linestyle=\"-\", color='black')\n",
    "    \n",
    "    ax.set_xlabel('X axis ($\\mu m$)')\n",
    "    ax.set_ylabel('Y axis ($\\mu m$)')\n",
    "    ax.set_zlabel('Z axis ($\\mu m$)')\n",
    "    ax.set_xlim(100, 250)\n",
    "    ax.set_ylim(100, 250)\n",
    "    #ax.set_zlim(50, 90)\n",
    "\n",
    " \n",
    "    # Hide the axes\n",
    "    #ax.set_axis_off()\n",
    "    \n",
    "    #legend\n",
    "    axins = inset_axes(ax,\n",
    "                   width=\"2%\",  # width = 5% of parent_bbox width\n",
    "                   height=\"50%\",  # height : 50%\n",
    "                   loc='upper right',\n",
    "                    bbox_to_anchor=(0., 0., 0.95, 0.8),\n",
    "                   bbox_transform=ax.transAxes,\n",
    "                   borderpad=0,\n",
    "                   )\n",
    "    cbar = fig.colorbar(sc, cax=axins)\n",
    "    cbar.set_label('Node degree', rotation=270)\n",
    "    cbar.ax.get_yaxis().labelpad = 15\n",
    "    \n",
    "    return"
   ]
  },
  {
   "cell_type": "code",
   "execution_count": null,
   "metadata": {},
   "outputs": [],
   "source": [
    "#dicName = path + '\\spheroid_00_00.json'\n",
    "\n",
    "#with open(dicName, \"r\") as read_file:\n",
    "#    _Sph = json.load(read_file)\n",
    "\n",
    "import networkx as nx\n",
    "G=nx.Graph()\n",
    "_Cells = _Sph['cells']"
   ]
  },
  {
   "cell_type": "code",
   "execution_count": null,
   "metadata": {},
   "outputs": [],
   "source": [
    "G = generate_random_3Dgraph(_Cells, 1/5, 23, scale = 1/3, seed=None)"
   ]
  },
  {
   "cell_type": "code",
   "execution_count": null,
   "metadata": {},
   "outputs": [],
   "source": [
    "network_plot_3D(G,30, save=False)\n",
    "\n",
    "plt.savefig(path + '\\\\3D_00_00.png')\n",
    "plt.show()"
   ]
  },
  {
   "cell_type": "code",
   "execution_count": null,
   "metadata": {},
   "outputs": [],
   "source": []
  }
 ],
 "metadata": {
  "kernelspec": {
   "display_name": "Python 3",
   "language": "python",
   "name": "python3"
  },
  "language_info": {
   "codemirror_mode": {
    "name": "ipython",
    "version": 3
   },
   "file_extension": ".py",
   "mimetype": "text/x-python",
   "name": "python",
   "nbconvert_exporter": "python",
   "pygments_lexer": "ipython3",
   "version": "3.7.0"
  }
 },
 "nbformat": 4,
 "nbformat_minor": 2
}
