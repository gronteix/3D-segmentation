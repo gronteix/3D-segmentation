{
 "cells": [
  {
   "cell_type": "code",
   "execution_count": 9,
   "metadata": {},
   "outputs": [],
   "source": [
    "import os\n",
    "import numpy as np\n",
    "import pandas"
   ]
  },
  {
   "cell_type": "code",
   "execution_count": 10,
   "metadata": {},
   "outputs": [],
   "source": [
    "import os\n",
    "import skimage\n",
    "from scipy import ndimage, signal\n",
    "from skimage import exposure\n",
    "import matplotlib.pyplot as plt\n",
    "import glob\n",
    "from skimage import io\n",
    "import scipy\n",
    "from scipy import signal\n",
    "from skimage import feature\n",
    "\n"
   ]
  },
  {
   "cell_type": "code",
   "execution_count": 11,
   "metadata": {},
   "outputs": [],
   "source": [
    "path = r'/Users/gustaveronteix/Desktop/Image Stack/Images/'"
   ]
  },
  {
   "cell_type": "code",
   "execution_count": 51,
   "metadata": {},
   "outputs": [],
   "source": [
    "def _getImage(path):\n",
    "    \n",
    "    image_list = []\n",
    "    for filename in glob.glob(path + '*.tif'): #assuming tif\n",
    "        im = io.imread(filename)\n",
    "        image_list.append(im[1])\n",
    "        \n",
    "    return np.reshape(image_list, (len(image_list), np.shape(image_list[0])[0], np.shape(image_list[0])[1]))"
   ]
  },
  {
   "cell_type": "code",
   "execution_count": 52,
   "metadata": {},
   "outputs": [],
   "source": [
    "def _getMaskImage(image):\n",
    "    \n",
    "    blurred = ndimage.gaussian_filter(image, sigma=2)\n",
    "    mask = (blurred > np.percentile(blurred, 98)).astype(np.float)\n",
    "    mask += 0.1\n",
    "    \n",
    "    binary_img = mask > 0.5\n",
    "    binary_img = ndimage.binary_dilation(ndimage.binary_erosion(binary_img)).astype(np.int)\n",
    "   \n",
    "    return np.multiply(blurred, binary_img)"
   ]
  },
  {
   "cell_type": "code",
   "execution_count": 1,
   "metadata": {},
   "outputs": [],
   "source": [
    "def _getMaximaFrame(Image, zRatio, rNoyau, rCell):\n",
    "    \n",
    "    \"\"\"Transforms the pixel image to a dataframe of maximum intensity positions\"\"\"\n",
    "\n",
    "    z, x, y = np.nonzero(Image)\n",
    "    binary_img = Image > 0 # Regarder si le seuil est le bon ou pas\n",
    "\n",
    "    mask_image_crop = Image[min(z):max(z), min(x):max(x), min(y):max(y)]\n",
    "\n",
    "    a = mask_image_crop\n",
    "    zDim, xDim, yDim = np.shape(mask_image_crop)\n",
    "\n",
    "    X = np.arange(0, 20)\n",
    "    Y = np.arange(0, 20)\n",
    "    Z = np.arange(0, 20)\n",
    "    X, Y, Z = np.meshgrid(X, Y, Z)\n",
    "\n",
    "    mask = np.sqrt((X-10)**2 + (Y-10)**2 + (Z-10)**2/zRatio**2) < rNoyau\n",
    "    mask = np.transpose(mask, (2,1,0))\n",
    "\n",
    "    conv = scipy.signal.fftconvolve(a, mask, mode='same', axes=None)\n",
    "    \n",
    "    mask_conv = ndimage.gaussian_filter(np.multiply(conv, binary_img[min(z):max(z), min(x):max(x), min(y):max(y)]), \n",
    "                                        sigma=2)\n",
    "    \n",
    "    coordinates = np.asarray(skimage.feature.peak_local_max(mask_conv, threshold_rel=0.01, min_distance=rCell))\n",
    "    \n",
    "    coordinates[:, 0] += min(z)\n",
    "    coordinates[:, 1] += min(x)\n",
    "    coordinates[:, 2] += min(y)\n",
    "    \n",
    "    df = pandas.DataFrame(coordinates, columns = ['z', 'x', 'y'])\n",
    "    \n",
    "    for ind, row in df.iterrows():\n",
    "        df.loc[ind, 'val'] = mask_conv[int(row['z']) - min(z), int(row['x']) - min(x), int(row['y']) - min(y)]\n",
    "        df.loc[ind, 'label'] = int(ind)\n",
    "    \n",
    "    return df"
   ]
  },
  {
   "cell_type": "code",
   "execution_count": 53,
   "metadata": {},
   "outputs": [],
   "source": [
    "def _duplicataClean(df):\n",
    "    \n",
    "    for ind, row in df.iterrows():\n",
    "\n",
    "        lf = df.loc[(df['x'] - row['x'])**2 + (df['y'] - row['y'])**2 < 4] # on élimine les duplicatats selon z\n",
    "\n",
    "        if len(lf) > 1:\n",
    "\n",
    "            a = len(df)\n",
    "            df = df.drop(lf.loc[lf['val'] < lf['val'].max()].index)\n",
    "    \n",
    "    return df"
   ]
  },
  {
   "cell_type": "code",
   "execution_count": 2,
   "metadata": {},
   "outputs": [],
   "source": [
    "def _getNuclei(path, zRatio, rNoyau, rCell, ePlan, eZ):\n",
    "    \n",
    "    \n",
    "    df = _getMaximaFrame(_getMaskImage(_getImage(path)), zRatio, rNoyau, rCell)\n",
    "    \n",
    "    df = _duplicataClean(df)\n",
    "    \n",
    "    return df"
   ]
  },
  {
   "cell_type": "code",
   "execution_count": 30,
   "metadata": {},
   "outputs": [
    {
     "name": "stdout",
     "output_type": "stream",
     "text": [
      "Using matplotlib backend: MacOSX\n"
     ]
    }
   ],
   "source": [
    "%matplotlib\n",
    "import pandas as pd\n",
    "import numpy as np\n",
    "import matplotlib as mpl\n",
    "import matplotlib.pyplot as plt\n",
    "from mpl_toolkits.mplot3d import Axes3D\n",
    "\n",
    "\n",
    "# What follows is a copy of the 3D plot example code.\n",
    "# Data is randomly generated so there is no external data import.\n",
    "\n",
    "fig = plt.figure()\n",
    "ax = fig.add_subplot(111, projection='3d')\n",
    "\n",
    "ax.scatter(df['x'], df['y'], df['z'])\n",
    "\n",
    "ax.set_xlabel('X Label')\n",
    "ax.set_ylabel('Y Label')\n",
    "ax.set_zlabel('Z Label')\n",
    "ax.set_zlim(0,51)\n",
    "\n",
    "plt.show()"
   ]
  },
  {
   "cell_type": "code",
   "execution_count": 19,
   "metadata": {},
   "outputs": [],
   "source": [
    "from matplotlib_scalebar.scalebar import ScaleBar\n",
    "\n",
    "for n in range(len(mask_img)):\n",
    "\n",
    "    plt.subplot(111)\n",
    "    plt.imshow(mask_img[n], cmap=plt.cm.gray, alpha = 0.8)\n",
    "    plt.axis('off')\n",
    "    \n",
    "    scalebar = ScaleBar(0.000001, location = 'lower right') # 1 pixel = 0.2 meter\n",
    "    plt.gca().add_artist(scalebar)\n",
    "\n",
    "    lf = df.loc[df['z'] == n]\n",
    "    mf = df.loc[df['z'] == n-1]\n",
    "    pf = df.loc[df['z'] == n+1]\n",
    "\n",
    "    plt.plot(mf['y'], mf['x'], 'go', label = 'z = ' + str(n-1))\n",
    "    plt.plot(lf['y'], lf['x'], 'yo', label = 'z = ' + str(n))\n",
    "    plt.plot(pf['y'], pf['x'], 'ro', label = 'z = ' + str(n+1))\n",
    "\n",
    "    plt.show()\n",
    "    plt.legend()\n",
    "    \n",
    "    plt.savefig(r'/Users/gustaveronteix/Desktop/Image Stack/filmstack/im_' + str(n) +'.png')\n",
    "    plt.close()"
   ]
  },
  {
   "cell_type": "code",
   "execution_count": 31,
   "metadata": {},
   "outputs": [],
   "source": [
    "def _nearestNeighbour(df, label, rMax, zRatio):\n",
    "    \n",
    "    \"\"\"Returns a list of float labels of the cells closest to the given label.\n",
    "    This method is dependant only on a minimum distance given by the investigator.\"\"\"\n",
    "    \n",
    "    x = df.loc[df['label'] == label, 'x'].iloc[0]\n",
    "    y = df.loc[df['label'] == label, 'y'].iloc[0]\n",
    "    z = df.loc[df['label'] == label, 'z'].iloc[0]\n",
    "    \n",
    "    lf = df.loc[df['label'] != label].copy() \n",
    "        \n",
    "    return lf.loc[np.sqrt((lf['x'] - x)**2 + (lf['y'] - y)**2 + zRatio**2*(lf['z'] - z)**2) < rMax, 'label'].values.tolist()"
   ]
  },
  {
   "cell_type": "code",
   "execution_count": 42,
   "metadata": {
    "scrolled": true
   },
   "outputs": [],
   "source": [
    "def _generateCells(df):\n",
    "\n",
    "    _Cells = {}\n",
    "    \n",
    "    df['label'] = df['label'].astype(int).astype(str)\n",
    "\n",
    "    for label in df['label'].unique():\n",
    "\n",
    "        dic = {}\n",
    "\n",
    "        dic['x'] = df.loc[df['label'] == label, 'x'].iloc[0]\n",
    "        dic['y'] = df.loc[df['label'] == label, 'y'].iloc[0]\n",
    "        dic['z'] = df.loc[df['label'] == label, 'z'].iloc[0]\n",
    "        \n",
    "        dic['neighbours'] = _nearestNeighbour(df, label, 40, 1.5)\n",
    "\n",
    "        _Cells[str(int(label))] = dic\n",
    "        \n",
    "    return _Cells"
   ]
  },
  {
   "cell_type": "code",
   "execution_count": 43,
   "metadata": {},
   "outputs": [],
   "source": [
    "_Cells = _generateCells(df)"
   ]
  },
  {
   "cell_type": "code",
   "execution_count": 44,
   "metadata": {},
   "outputs": [],
   "source": [
    "import networkx as nx\n",
    "G=nx.Graph()"
   ]
  },
  {
   "cell_type": "code",
   "execution_count": 45,
   "metadata": {},
   "outputs": [],
   "source": [
    "G.add_nodes_from(_Cells.keys())"
   ]
  },
  {
   "cell_type": "code",
   "execution_count": 46,
   "metadata": {},
   "outputs": [],
   "source": [
    "for key in _Cells.keys():\n",
    "    \n",
    "    neighbours = _Cells[key]['neighbours']\n",
    "    \n",
    "    for node in neighbours:\n",
    "    \n",
    "        G.add_edge(key, node)"
   ]
  },
  {
   "cell_type": "code",
   "execution_count": 47,
   "metadata": {},
   "outputs": [],
   "source": [
    "zAlt = []\n",
    "\n",
    "for key in _Cells.keys():\n",
    "        \n",
    "    zAlt.append(_Cells[key]['z'])"
   ]
  },
  {
   "cell_type": "code",
   "execution_count": 50,
   "metadata": {},
   "outputs": [
    {
     "name": "stderr",
     "output_type": "stream",
     "text": [
      "/anaconda3/lib/python3.6/site-packages/networkx/drawing/nx_pylab.py:579: MatplotlibDeprecationWarning: \n",
      "The iterable function was deprecated in Matplotlib 3.1 and will be removed in 3.3. Use np.iterable instead.\n",
      "  if not cb.iterable(width):\n"
     ]
    }
   ],
   "source": [
    "plt.figure()\n",
    "\n",
    "pos = nx.spring_layout(G)\n",
    "im = nx.draw_networkx_nodes(G, pos, node_size=20, node_color = zAlt, cmap=plt.cm.viridis)\n",
    "nx.draw_networkx_edges(G, pos, alpha=0.4)\n",
    "plt.colorbar(im)\n",
    "plt.show()"
   ]
  }
 ],
 "metadata": {
  "kernelspec": {
   "display_name": "Python 3",
   "language": "python",
   "name": "python3"
  },
  "language_info": {
   "codemirror_mode": {
    "name": "ipython",
    "version": 3
   },
   "file_extension": ".py",
   "mimetype": "text/x-python",
   "name": "python",
   "nbconvert_exporter": "python",
   "pygments_lexer": "ipython3",
   "version": "3.6.4"
  }
 },
 "nbformat": 4,
 "nbformat_minor": 2
}
